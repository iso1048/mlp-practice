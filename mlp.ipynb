{
 "cells": [
  {
   "cell_type": "code",
   "execution_count": 1,
   "metadata": {},
   "outputs": [],
   "source": [
    "%matplotlib inline\n",
    "\n",
    "import numpy as np\n",
    "import pandas as pd\n",
    "import matplotlib.pyplot as plt\n",
    "import time\n",
    "import random"
   ]
  },
  {
   "cell_type": "markdown",
   "metadata": {},
   "source": [
    "# load data"
   ]
  },
  {
   "cell_type": "code",
   "execution_count": 2,
   "metadata": {},
   "outputs": [
    {
     "name": "stdout",
     "output_type": "stream",
     "text": [
      "done\n"
     ]
    }
   ],
   "source": [
    "d = pd.read_csv('train.csv')\n",
    "print('done')"
   ]
  },
  {
   "cell_type": "code",
   "execution_count": 3,
   "metadata": {},
   "outputs": [
    {
     "name": "stdout",
     "output_type": "stream",
     "text": [
      "(42000, 785)\n"
     ]
    },
    {
     "data": {
      "text/html": [
       "<div>\n",
       "<style scoped>\n",
       "    .dataframe tbody tr th:only-of-type {\n",
       "        vertical-align: middle;\n",
       "    }\n",
       "\n",
       "    .dataframe tbody tr th {\n",
       "        vertical-align: top;\n",
       "    }\n",
       "\n",
       "    .dataframe thead th {\n",
       "        text-align: right;\n",
       "    }\n",
       "</style>\n",
       "<table border=\"1\" class=\"dataframe\">\n",
       "  <thead>\n",
       "    <tr style=\"text-align: right;\">\n",
       "      <th></th>\n",
       "      <th>label</th>\n",
       "      <th>pixel0</th>\n",
       "      <th>pixel1</th>\n",
       "      <th>pixel2</th>\n",
       "      <th>pixel3</th>\n",
       "      <th>pixel4</th>\n",
       "      <th>pixel5</th>\n",
       "      <th>pixel6</th>\n",
       "      <th>pixel7</th>\n",
       "      <th>pixel8</th>\n",
       "      <th>...</th>\n",
       "      <th>pixel774</th>\n",
       "      <th>pixel775</th>\n",
       "      <th>pixel776</th>\n",
       "      <th>pixel777</th>\n",
       "      <th>pixel778</th>\n",
       "      <th>pixel779</th>\n",
       "      <th>pixel780</th>\n",
       "      <th>pixel781</th>\n",
       "      <th>pixel782</th>\n",
       "      <th>pixel783</th>\n",
       "    </tr>\n",
       "  </thead>\n",
       "  <tbody>\n",
       "    <tr>\n",
       "      <td>0</td>\n",
       "      <td>1</td>\n",
       "      <td>0</td>\n",
       "      <td>0</td>\n",
       "      <td>0</td>\n",
       "      <td>0</td>\n",
       "      <td>0</td>\n",
       "      <td>0</td>\n",
       "      <td>0</td>\n",
       "      <td>0</td>\n",
       "      <td>0</td>\n",
       "      <td>...</td>\n",
       "      <td>0</td>\n",
       "      <td>0</td>\n",
       "      <td>0</td>\n",
       "      <td>0</td>\n",
       "      <td>0</td>\n",
       "      <td>0</td>\n",
       "      <td>0</td>\n",
       "      <td>0</td>\n",
       "      <td>0</td>\n",
       "      <td>0</td>\n",
       "    </tr>\n",
       "    <tr>\n",
       "      <td>1</td>\n",
       "      <td>0</td>\n",
       "      <td>0</td>\n",
       "      <td>0</td>\n",
       "      <td>0</td>\n",
       "      <td>0</td>\n",
       "      <td>0</td>\n",
       "      <td>0</td>\n",
       "      <td>0</td>\n",
       "      <td>0</td>\n",
       "      <td>0</td>\n",
       "      <td>...</td>\n",
       "      <td>0</td>\n",
       "      <td>0</td>\n",
       "      <td>0</td>\n",
       "      <td>0</td>\n",
       "      <td>0</td>\n",
       "      <td>0</td>\n",
       "      <td>0</td>\n",
       "      <td>0</td>\n",
       "      <td>0</td>\n",
       "      <td>0</td>\n",
       "    </tr>\n",
       "    <tr>\n",
       "      <td>2</td>\n",
       "      <td>1</td>\n",
       "      <td>0</td>\n",
       "      <td>0</td>\n",
       "      <td>0</td>\n",
       "      <td>0</td>\n",
       "      <td>0</td>\n",
       "      <td>0</td>\n",
       "      <td>0</td>\n",
       "      <td>0</td>\n",
       "      <td>0</td>\n",
       "      <td>...</td>\n",
       "      <td>0</td>\n",
       "      <td>0</td>\n",
       "      <td>0</td>\n",
       "      <td>0</td>\n",
       "      <td>0</td>\n",
       "      <td>0</td>\n",
       "      <td>0</td>\n",
       "      <td>0</td>\n",
       "      <td>0</td>\n",
       "      <td>0</td>\n",
       "    </tr>\n",
       "    <tr>\n",
       "      <td>3</td>\n",
       "      <td>4</td>\n",
       "      <td>0</td>\n",
       "      <td>0</td>\n",
       "      <td>0</td>\n",
       "      <td>0</td>\n",
       "      <td>0</td>\n",
       "      <td>0</td>\n",
       "      <td>0</td>\n",
       "      <td>0</td>\n",
       "      <td>0</td>\n",
       "      <td>...</td>\n",
       "      <td>0</td>\n",
       "      <td>0</td>\n",
       "      <td>0</td>\n",
       "      <td>0</td>\n",
       "      <td>0</td>\n",
       "      <td>0</td>\n",
       "      <td>0</td>\n",
       "      <td>0</td>\n",
       "      <td>0</td>\n",
       "      <td>0</td>\n",
       "    </tr>\n",
       "    <tr>\n",
       "      <td>4</td>\n",
       "      <td>0</td>\n",
       "      <td>0</td>\n",
       "      <td>0</td>\n",
       "      <td>0</td>\n",
       "      <td>0</td>\n",
       "      <td>0</td>\n",
       "      <td>0</td>\n",
       "      <td>0</td>\n",
       "      <td>0</td>\n",
       "      <td>0</td>\n",
       "      <td>...</td>\n",
       "      <td>0</td>\n",
       "      <td>0</td>\n",
       "      <td>0</td>\n",
       "      <td>0</td>\n",
       "      <td>0</td>\n",
       "      <td>0</td>\n",
       "      <td>0</td>\n",
       "      <td>0</td>\n",
       "      <td>0</td>\n",
       "      <td>0</td>\n",
       "    </tr>\n",
       "  </tbody>\n",
       "</table>\n",
       "<p>5 rows × 785 columns</p>\n",
       "</div>"
      ],
      "text/plain": [
       "   label  pixel0  pixel1  pixel2  pixel3  pixel4  pixel5  pixel6  pixel7  \\\n",
       "0      1       0       0       0       0       0       0       0       0   \n",
       "1      0       0       0       0       0       0       0       0       0   \n",
       "2      1       0       0       0       0       0       0       0       0   \n",
       "3      4       0       0       0       0       0       0       0       0   \n",
       "4      0       0       0       0       0       0       0       0       0   \n",
       "\n",
       "   pixel8  ...  pixel774  pixel775  pixel776  pixel777  pixel778  pixel779  \\\n",
       "0       0  ...         0         0         0         0         0         0   \n",
       "1       0  ...         0         0         0         0         0         0   \n",
       "2       0  ...         0         0         0         0         0         0   \n",
       "3       0  ...         0         0         0         0         0         0   \n",
       "4       0  ...         0         0         0         0         0         0   \n",
       "\n",
       "   pixel780  pixel781  pixel782  pixel783  \n",
       "0         0         0         0         0  \n",
       "1         0         0         0         0  \n",
       "2         0         0         0         0  \n",
       "3         0         0         0         0  \n",
       "4         0         0         0         0  \n",
       "\n",
       "[5 rows x 785 columns]"
      ]
     },
     "execution_count": 3,
     "metadata": {},
     "output_type": "execute_result"
    }
   ],
   "source": [
    "print(d.shape)\n",
    "d.head()"
   ]
  },
  {
   "cell_type": "code",
   "execution_count": 4,
   "metadata": {},
   "outputs": [
    {
     "data": {
      "image/png": "[encoded data removed]",
      "text/plain": [
       "<Figure size 432x288 with 1 Axes>"
      ]
     },
     "metadata": {
      "needs_background": "light"
     },
     "output_type": "display_data"
    }
   ],
   "source": [
    "# view class distribution\n",
    "x = [i for i in range(0,10)]\n",
    "plt.bar(x, d['label'].value_counts().sort_index())\n",
    "plt.xticks(x)\n",
    "plt.show()"
   ]
  },
  {
   "cell_type": "markdown",
   "metadata": {},
   "source": [
    "# preprocessing"
   ]
  },
  {
   "cell_type": "code",
   "execution_count": 5,
   "metadata": {},
   "outputs": [
    {
     "name": "stdout",
     "output_type": "stream",
     "text": [
      "done\n"
     ]
    }
   ],
   "source": [
    "# convert to matrix\n",
    "d = d.values\n",
    "print('done')"
   ]
  },
  {
   "cell_type": "code",
   "execution_count": 6,
   "metadata": {},
   "outputs": [
    {
     "name": "stdout",
     "output_type": "stream",
     "text": [
      "range before normalisation: [0, 255]\n",
      "range after normalisation: [0.0, 1.0]\n"
     ]
    }
   ],
   "source": [
    "# separate features (X) from labels (y)\n",
    "d_X = d[:,1:] # (42000, 784)\n",
    "d_y = d[:,0]  # (42000,)\n",
    "d_y = d_y[:, None]\n",
    "\n",
    "# normalise features\n",
    "print(f'range before normalisation: {[d_X.min(),d_X.max()]}')\n",
    "d_X = d_X / 255\n",
    "print(f'range after normalisation: {[d_X.min(),d_X.max()]}')"
   ]
  },
  {
   "cell_type": "markdown",
   "metadata": {},
   "source": [
    "## split data into training and validation sets"
   ]
  },
  {
   "cell_type": "code",
   "execution_count": 7,
   "metadata": {},
   "outputs": [],
   "source": [
    "def train_val_split(X, y, val_size=0.25):\n",
    "    \"\"\"splits dataset into training and validation set\"\"\"\n",
    "    \n",
    "    d_size = X.shape[0]\n",
    "    sep = int(val_size * d_size)\n",
    "    inds = list(range(d_size))\n",
    "    random.shuffle(inds)\n",
    "    train_inds, val_inds = inds[sep:], inds[:sep]\n",
    "\n",
    "    X_t, X_v = d_X[train_inds, :], d_X[val_inds, :]\n",
    "    y_t, y_v = d_y[train_inds], d_y[val_inds]\n",
    "    \n",
    "    return X_t, X_v, y_t, y_v\n"
   ]
  },
  {
   "cell_type": "code",
   "execution_count": 354,
   "metadata": {},
   "outputs": [
    {
     "name": "stdout",
     "output_type": "stream",
     "text": [
      "done\n",
      "(33600, 784) (8400, 784) (33600, 1) (8400, 1)\n"
     ]
    }
   ],
   "source": [
    "# split into training and validation set\n",
    "X_trn, X_val, y_trn, y_val = train_val_split(d_X, d_y, val_size=0.20)\n",
    "print('done')\n",
    "\n",
    "print(X_trn.shape, X_val.shape, y_trn.shape, y_val.shape)"
   ]
  },
  {
   "cell_type": "code",
   "execution_count": null,
   "metadata": {},
   "outputs": [],
   "source": []
  },
  {
   "cell_type": "markdown",
   "metadata": {},
   "source": [
    "# class definition"
   ]
  },
  {
   "cell_type": "code",
   "execution_count": 356,
   "metadata": {},
   "outputs": [],
   "source": [
    "\n",
    "class MLP:\n",
    "    def __init__(self, architecture, batch_size):\n",
    "        \n",
    "        # can only accept a 3 layer architecture for now\n",
    "        self.n = architecture[0]\n",
    "        self.h = architecture[1]\n",
    "        self.out = architecture[2]\n",
    "        self.batch_size = batch_size\n",
    "        \n",
    "        # randomly initialise parameters close to 0 between [-ε_init,ε_init] \n",
    "        limit_h = 1/np.sqrt(self.h)\n",
    "        limit_out = 1/np.sqrt(self.out)\n",
    "        \n",
    "        self.w1 = np.random.uniform(-limit_h, limit_h, (self.n, self.h))\n",
    "        self.w2 = np.random.uniform(-limit_out, limit_out, (self.h, self.out))\n",
    "        self.b1 = np.zeros((self.h, 1))\n",
    "        self.b2 = np.zeros((self.out, 1))\n",
    "\n",
    "    def forward(self, x):\n",
    "        \n",
    "        self.z1 = np.dot(x, self.w1) + self.b1.T\n",
    "        self.a1 = self.relu(self.z1)\n",
    "        self.z2 = np.dot(self.a1, self.w2) + self.b2.T\n",
    "        self.a2 = self.softmax(self.z2)\n",
    "        \n",
    "        return self.a2\n",
    "    \n",
    "    def cel(self, y, yhat):\n",
    "        # y -> batch_size x 1 matrix (ground truth)\n",
    "        # yhat -> batch_size x 10 matrix (predictions)\n",
    "    \n",
    "        # one-hot encode y\n",
    "        targets = y.reshape(-1)\n",
    "        y_onehot = np.eye(yhat.shape[1])[targets]\n",
    "        \n",
    "        self.loss = -np.sum( y_onehot * np.log(yhat + 1e-8))\n",
    "        # incl. +1e-8 to make the calculation stable\n",
    "        return self.loss\n",
    "    \n",
    "    def backprop(self, y, x):\n",
    "        \n",
    "        # one-hot encode y\n",
    "        targets = y.reshape(-1)\n",
    "        y_onehot = np.eye(self.out)[targets]\n",
    "        \n",
    "        delta_a2 = self.a2 - y_onehot\n",
    "        delta_a1 = np.dot(delta_a2, self.w2.T) * self.relu(self.z1, derivative=True)\n",
    "        \n",
    "        self.dJ_dw2 = np.dot(self.a1.T, delta_a2) / self.batch_size\n",
    "        self.dJ_dw1 = np.dot(x.T, delta_a1) / self.batch_size\n",
    "        self.dJ_db2 = np.sum(delta_a2.T, axis=1, keepdims=True) / self.batch_size\n",
    "        self.dJ_db1 = np.sum(delta_a1.T, axis=1, keepdims=True) / self.batch_size\n",
    "    \n",
    "    def grad_descent(self, lr):\n",
    "\n",
    "        self.w1 -= lr * self.dJ_dw1\n",
    "        self.b1 -= lr * self.dJ_db1 \n",
    "        self.w2 -= lr * self.dJ_dw2\n",
    "        self.b2 -= lr * self.dJ_db2\n",
    "        \n",
    "    def train(self, X, Y, epochs, lr=0.01, timer=True, return_params=False):\n",
    "        # X -> m x self.n matrix\n",
    "        # y -> m x 1 matrix\n",
    "        \n",
    "        loss_hx = []\n",
    "        m = X.shape[0]\n",
    "        self.lr = lr\n",
    "        t0 = time.time()\n",
    "        \n",
    "        for epoch in range(epochs):\n",
    "            \n",
    "            epoch_loss = 0\n",
    "            \n",
    "            # mini-batch grad descent\n",
    "            for i in range(0, m, self.batch_size):\n",
    "                \n",
    "                # get batch fron training data\n",
    "                x = X[i:i+self.batch_size, :] \n",
    "                y = Y[i:i+self.batch_size,:]\n",
    "            \n",
    "                preds = self.forward(x)\n",
    "                loss = self.cel(y, preds)\n",
    "                self.backprop(y, x)\n",
    "                self.grad_descent(self.lr)\n",
    "                \n",
    "                epoch_loss += loss\n",
    "                \n",
    "            loss_hx.append(epoch_loss)\n",
    "            if epoch%20==0: print(f'{epoch}', end=\"   \")\n",
    "        \n",
    "        t1 = time.time()\n",
    "        print(f'training time: {t1-t0}')\n",
    "        \n",
    "        return loss_hx\n",
    "        \n",
    "    def predict(self, X_test):\n",
    "        \n",
    "        class_probabilities = self.forward(X_test)\n",
    "        \n",
    "        # index of max value for each example\n",
    "        predictions = class_probabilities.argmax(axis=1)\n",
    "        # return predictions as (m x 1) matrix\n",
    "        return predictions[:, None]\n",
    "    \n",
    "    def relu(self, x, derivative=False):\n",
    "        if derivative:\n",
    "            return (x > 0)\n",
    "        return np.maximum(x, 0)\n",
    "\n",
    "    def softmax(self, x):\n",
    "        exps = np.exp(x - np.max(x)) # subtracting max makes calculation stable\n",
    "        exps_sums = exps.sum(axis=1)\n",
    "        return exps / exps_sums[:,None]\n"
   ]
  },
  {
   "cell_type": "code",
   "execution_count": 357,
   "metadata": {},
   "outputs": [],
   "source": [
    "# function for checking accuracy of predictions\n",
    "\n",
    "from sklearn.metrics import precision_recall_fscore_support as score\n",
    "\n",
    "def accuracy(yhat, y):\n",
    "    # y and yhat are both m x 1 matrices\n",
    "    \n",
    "    #recall=(tp)/(tp+fn); precision=(tp)/(tp+fp); F=2(P.R/(P+R))\n",
    "    precision, recall, fscore, support = score(y, yhat)\n",
    "    assessment = pd.DataFrame({'precision': precision,\n",
    "                               'recall': recall,\n",
    "                               'fscore': fscore,\n",
    "                               'support': support})\n",
    "    \n",
    "    return assessment\n"
   ]
  },
  {
   "cell_type": "markdown",
   "metadata": {},
   "source": [
    "# training a model"
   ]
  },
  {
   "cell_type": "code",
   "execution_count": 358,
   "metadata": {},
   "outputs": [
    {
     "name": "stdout",
     "output_type": "stream",
     "text": [
      "0   20   40   60   80   100   120   140   160   180   200   220   240   260   280   300   320   340   360   380   400   420   440   460   480   training time: 116.76389288902283\n",
      "loss of last epoch: 14.283472662375893\n"
     ]
    },
    {
     "data": {
      "text/plain": [
       "[<matplotlib.lines.Line2D at 0x1d28ff62708>]"
      ]
     },
     "execution_count": 358,
     "metadata": {},
     "output_type": "execute_result"
    },
    {
     "data": {
      "image/png": "[encoded data removed]",
      "text/plain": [
       "<Figure size 432x288 with 1 Axes>"
      ]
     },
     "metadata": {
      "needs_background": "light"
     },
     "output_type": "display_data"
    }
   ],
   "source": [
    "# define model\n",
    "model = MLP(architecture=[784, 30, 10], \n",
    "            batch_size=64)\n",
    "\n",
    "# train model - store loss in each epoch in losses\n",
    "losses = model.train(X_trn, y_trn, epochs=500, lr=0.10)\n",
    "\n",
    "print(f'loss of last epoch: {losses[-1]}')\n",
    "plt.plot(losses)\n"
   ]
  },
  {
   "cell_type": "markdown",
   "metadata": {},
   "source": [
    "## evaluate model"
   ]
  },
  {
   "cell_type": "code",
   "execution_count": 359,
   "metadata": {},
   "outputs": [
    {
     "name": "stdout",
     "output_type": "stream",
     "text": [
      "(8400, 1)\n"
     ]
    },
    {
     "data": {
      "text/html": [
       "<div>\n",
       "<style scoped>\n",
       "    .dataframe tbody tr th:only-of-type {\n",
       "        vertical-align: middle;\n",
       "    }\n",
       "\n",
       "    .dataframe tbody tr th {\n",
       "        vertical-align: top;\n",
       "    }\n",
       "\n",
       "    .dataframe thead th {\n",
       "        text-align: right;\n",
       "    }\n",
       "</style>\n",
       "<table border=\"1\" class=\"dataframe\">\n",
       "  <thead>\n",
       "    <tr style=\"text-align: right;\">\n",
       "      <th></th>\n",
       "      <th>precision</th>\n",
       "      <th>recall</th>\n",
       "      <th>fscore</th>\n",
       "      <th>support</th>\n",
       "    </tr>\n",
       "  </thead>\n",
       "  <tbody>\n",
       "    <tr>\n",
       "      <td>0</td>\n",
       "      <td>0.970552</td>\n",
       "      <td>0.985056</td>\n",
       "      <td>0.977750</td>\n",
       "      <td>803</td>\n",
       "    </tr>\n",
       "    <tr>\n",
       "      <td>1</td>\n",
       "      <td>0.980932</td>\n",
       "      <td>0.983015</td>\n",
       "      <td>0.981972</td>\n",
       "      <td>942</td>\n",
       "    </tr>\n",
       "    <tr>\n",
       "      <td>2</td>\n",
       "      <td>0.962010</td>\n",
       "      <td>0.942377</td>\n",
       "      <td>0.952092</td>\n",
       "      <td>833</td>\n",
       "    </tr>\n",
       "    <tr>\n",
       "      <td>3</td>\n",
       "      <td>0.951276</td>\n",
       "      <td>0.950174</td>\n",
       "      <td>0.950725</td>\n",
       "      <td>863</td>\n",
       "    </tr>\n",
       "    <tr>\n",
       "      <td>4</td>\n",
       "      <td>0.964158</td>\n",
       "      <td>0.957295</td>\n",
       "      <td>0.960714</td>\n",
       "      <td>843</td>\n",
       "    </tr>\n",
       "    <tr>\n",
       "      <td>5</td>\n",
       "      <td>0.956975</td>\n",
       "      <td>0.944659</td>\n",
       "      <td>0.950777</td>\n",
       "      <td>777</td>\n",
       "    </tr>\n",
       "    <tr>\n",
       "      <td>6</td>\n",
       "      <td>0.972121</td>\n",
       "      <td>0.972121</td>\n",
       "      <td>0.972121</td>\n",
       "      <td>825</td>\n",
       "    </tr>\n",
       "    <tr>\n",
       "      <td>7</td>\n",
       "      <td>0.963415</td>\n",
       "      <td>0.964484</td>\n",
       "      <td>0.963949</td>\n",
       "      <td>901</td>\n",
       "    </tr>\n",
       "    <tr>\n",
       "      <td>8</td>\n",
       "      <td>0.928121</td>\n",
       "      <td>0.947233</td>\n",
       "      <td>0.937580</td>\n",
       "      <td>777</td>\n",
       "    </tr>\n",
       "    <tr>\n",
       "      <td>9</td>\n",
       "      <td>0.939213</td>\n",
       "      <td>0.942584</td>\n",
       "      <td>0.940896</td>\n",
       "      <td>836</td>\n",
       "    </tr>\n",
       "  </tbody>\n",
       "</table>\n",
       "</div>"
      ],
      "text/plain": [
       "   precision    recall    fscore  support\n",
       "0   0.970552  0.985056  0.977750      803\n",
       "1   0.980932  0.983015  0.981972      942\n",
       "2   0.962010  0.942377  0.952092      833\n",
       "3   0.951276  0.950174  0.950725      863\n",
       "4   0.964158  0.957295  0.960714      843\n",
       "5   0.956975  0.944659  0.950777      777\n",
       "6   0.972121  0.972121  0.972121      825\n",
       "7   0.963415  0.964484  0.963949      901\n",
       "8   0.928121  0.947233  0.937580      777\n",
       "9   0.939213  0.942584  0.940896      836"
      ]
     },
     "execution_count": 359,
     "metadata": {},
     "output_type": "execute_result"
    }
   ],
   "source": [
    "# make predictions\n",
    "predictions = model.predict(X_val)\n",
    "print(predictions.shape)\n",
    "\n",
    "# assess accuracy\n",
    "accuracy(predictions, y_val)"
   ]
  },
  {
   "cell_type": "markdown",
   "metadata": {},
   "source": [
    "# submission"
   ]
  },
  {
   "cell_type": "code",
   "execution_count": 350,
   "metadata": {},
   "outputs": [
    {
     "name": "stdout",
     "output_type": "stream",
     "text": [
      "done\n"
     ]
    }
   ],
   "source": [
    "# load testing data\n",
    "test_data = pd.read_csv('./test.csv')\n",
    "\n",
    "# mean normalisation and feature scaling\n",
    "test_data = test_data/255\n",
    "\n",
    "print('done')"
   ]
  },
  {
   "cell_type": "code",
   "execution_count": 351,
   "metadata": {},
   "outputs": [
    {
     "name": "stdout",
     "output_type": "stream",
     "text": [
      "(28000, 1)\n",
      "28000\n"
     ]
    }
   ],
   "source": [
    "# convert to np array\n",
    "test_data_arr = test_data.values\n",
    "\n",
    "# make predictions\n",
    "test_preds = model.predict(test_data_arr)\n",
    "print(test_preds.shape)\n",
    "print(len(test_preds))"
   ]
  },
  {
   "cell_type": "code",
   "execution_count": 352,
   "metadata": {},
   "outputs": [
    {
     "name": "stdout",
     "output_type": "stream",
     "text": [
      "   ImageId  Label\n",
      "0        1      2\n",
      "1        2      0\n",
      "2        3      9\n",
      "3        4      9\n",
      "4        5      3\n"
     ]
    }
   ],
   "source": [
    "# convert to df\n",
    "solns = pd.DataFrame({'ImageId': list(range(1, len(test_preds)+1)),\n",
    "                      'Label':test_preds[:,0]})\n",
    "print(solns.head())\n",
    "\n",
    "# save to file\n",
    "solns.to_csv('submission.csv', index=False, header=True)\n"
   ]
  },
  {
   "cell_type": "markdown",
   "metadata": {},
   "source": [
    "## submission record"
   ]
  },
  {
   "cell_type": "code",
   "execution_count": null,
   "metadata": {},
   "outputs": [],
   "source": [
    "# 25 hidden layers; batch size 100; epochs 300; lr 0.05; val_size 0.25 -> 0.95285 \n",
    "# 25 hidden layers; batch size 100; epochs 380; lr 0.08; val_size 0.25-> 0.95342\n",
    "# 30 hidden layers; batch size 100; epochs 500; lr 0.1; val_size 0.2 -> 0.95900\n",
    "# 35 hidden layers; batch size 64; epochs 500; lr 0.16; val_size 0.2 -> 0.95914\n",
    "# 60 hidden layers; batch size 64; epochs 500; lr 0.16; val_size 0.2 -> 0.96900\n",
    "# 60 hidden layers; batch size 32; epochs 500; lr 0.16; val_size 0.2 -> 0.97028\n",
    "# 70 hidden layers; batch size 24; epochs 500; lr 0.18; val_size 0.2 -> 0.97128\n",
    "# 70 hidden layers; batch size 24; epochs 500; lr 0.18; val_size 0.01 -> 0.97242"
   ]
  },
  {
   "cell_type": "code",
   "execution_count": null,
   "metadata": {},
   "outputs": [],
   "source": [
    "# initialising parameters based on square root of number of nodes in layer gives much lower loss\n",
    "# compared to initialising from normal distribution\n",
    "\n",
    "# this is better...\n",
    "w1 = np.random.uniform(-1/np.sqrt(h), 1/np.sqrt(h), (n, h))\n",
    "w2 = np.random.uniform(-1/np.sqrt(out), 1/np.sqrt(out), (h, out))\n",
    "\n",
    "# compared to this\n",
    "w1 = np.random.normal(0, 1, (n, h))\n",
    "w2 = np.random.normal(0, 1, (h, out))"
   ]
  }
 ],
 "metadata": {
  "kernelspec": {
   "display_name": "Python 3",
   "language": "python",
   "name": "python3"
  },
  "language_info": {
   "codemirror_mode": {
    "name": "ipython",
    "version": 3
   },
   "file_extension": ".py",
   "mimetype": "text/x-python",
   "name": "python",
   "nbconvert_exporter": "python",
   "pygments_lexer": "ipython3",
   "version": "3.7.4"
  }
 },
 "nbformat": 4,
 "nbformat_minor": 2
}
