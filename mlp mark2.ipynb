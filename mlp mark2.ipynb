{
 "cells": [
  {
   "cell_type": "code",
   "execution_count": 1,
   "metadata": {},
   "outputs": [],
   "source": [
    "%matplotlib inline\n",
    "\n",
    "import numpy as np\n",
    "import pandas as pd\n",
    "import matplotlib.pyplot as plt\n",
    "import time\n",
    "import random"
   ]
  },
  {
   "cell_type": "markdown",
   "metadata": {},
   "source": [
    "# load data"
   ]
  },
  {
   "cell_type": "code",
   "execution_count": 2,
   "metadata": {},
   "outputs": [
    {
     "name": "stdout",
     "output_type": "stream",
     "text": [
      "done\n"
     ]
    }
   ],
   "source": [
    "d = pd.read_csv('train.csv')\n",
    "print('done')"
   ]
  },
  {
   "cell_type": "code",
   "execution_count": 3,
   "metadata": {},
   "outputs": [
    {
     "name": "stdout",
     "output_type": "stream",
     "text": [
      "(42000, 785)\n"
     ]
    },
    {
     "data": {
      "text/html": [
       "<div>\n",
       "<style scoped>\n",
       "    .dataframe tbody tr th:only-of-type {\n",
       "        vertical-align: middle;\n",
       "    }\n",
       "\n",
       "    .dataframe tbody tr th {\n",
       "        vertical-align: top;\n",
       "    }\n",
       "\n",
       "    .dataframe thead th {\n",
       "        text-align: right;\n",
       "    }\n",
       "</style>\n",
       "<table border=\"1\" class=\"dataframe\">\n",
       "  <thead>\n",
       "    <tr style=\"text-align: right;\">\n",
       "      <th></th>\n",
       "      <th>label</th>\n",
       "      <th>pixel0</th>\n",
       "      <th>pixel1</th>\n",
       "      <th>pixel2</th>\n",
       "      <th>pixel3</th>\n",
       "      <th>pixel4</th>\n",
       "      <th>pixel5</th>\n",
       "      <th>pixel6</th>\n",
       "      <th>pixel7</th>\n",
       "      <th>pixel8</th>\n",
       "      <th>...</th>\n",
       "      <th>pixel774</th>\n",
       "      <th>pixel775</th>\n",
       "      <th>pixel776</th>\n",
       "      <th>pixel777</th>\n",
       "      <th>pixel778</th>\n",
       "      <th>pixel779</th>\n",
       "      <th>pixel780</th>\n",
       "      <th>pixel781</th>\n",
       "      <th>pixel782</th>\n",
       "      <th>pixel783</th>\n",
       "    </tr>\n",
       "  </thead>\n",
       "  <tbody>\n",
       "    <tr>\n",
       "      <td>0</td>\n",
       "      <td>1</td>\n",
       "      <td>0</td>\n",
       "      <td>0</td>\n",
       "      <td>0</td>\n",
       "      <td>0</td>\n",
       "      <td>0</td>\n",
       "      <td>0</td>\n",
       "      <td>0</td>\n",
       "      <td>0</td>\n",
       "      <td>0</td>\n",
       "      <td>...</td>\n",
       "      <td>0</td>\n",
       "      <td>0</td>\n",
       "      <td>0</td>\n",
       "      <td>0</td>\n",
       "      <td>0</td>\n",
       "      <td>0</td>\n",
       "      <td>0</td>\n",
       "      <td>0</td>\n",
       "      <td>0</td>\n",
       "      <td>0</td>\n",
       "    </tr>\n",
       "    <tr>\n",
       "      <td>1</td>\n",
       "      <td>0</td>\n",
       "      <td>0</td>\n",
       "      <td>0</td>\n",
       "      <td>0</td>\n",
       "      <td>0</td>\n",
       "      <td>0</td>\n",
       "      <td>0</td>\n",
       "      <td>0</td>\n",
       "      <td>0</td>\n",
       "      <td>0</td>\n",
       "      <td>...</td>\n",
       "      <td>0</td>\n",
       "      <td>0</td>\n",
       "      <td>0</td>\n",
       "      <td>0</td>\n",
       "      <td>0</td>\n",
       "      <td>0</td>\n",
       "      <td>0</td>\n",
       "      <td>0</td>\n",
       "      <td>0</td>\n",
       "      <td>0</td>\n",
       "    </tr>\n",
       "    <tr>\n",
       "      <td>2</td>\n",
       "      <td>1</td>\n",
       "      <td>0</td>\n",
       "      <td>0</td>\n",
       "      <td>0</td>\n",
       "      <td>0</td>\n",
       "      <td>0</td>\n",
       "      <td>0</td>\n",
       "      <td>0</td>\n",
       "      <td>0</td>\n",
       "      <td>0</td>\n",
       "      <td>...</td>\n",
       "      <td>0</td>\n",
       "      <td>0</td>\n",
       "      <td>0</td>\n",
       "      <td>0</td>\n",
       "      <td>0</td>\n",
       "      <td>0</td>\n",
       "      <td>0</td>\n",
       "      <td>0</td>\n",
       "      <td>0</td>\n",
       "      <td>0</td>\n",
       "    </tr>\n",
       "    <tr>\n",
       "      <td>3</td>\n",
       "      <td>4</td>\n",
       "      <td>0</td>\n",
       "      <td>0</td>\n",
       "      <td>0</td>\n",
       "      <td>0</td>\n",
       "      <td>0</td>\n",
       "      <td>0</td>\n",
       "      <td>0</td>\n",
       "      <td>0</td>\n",
       "      <td>0</td>\n",
       "      <td>...</td>\n",
       "      <td>0</td>\n",
       "      <td>0</td>\n",
       "      <td>0</td>\n",
       "      <td>0</td>\n",
       "      <td>0</td>\n",
       "      <td>0</td>\n",
       "      <td>0</td>\n",
       "      <td>0</td>\n",
       "      <td>0</td>\n",
       "      <td>0</td>\n",
       "    </tr>\n",
       "    <tr>\n",
       "      <td>4</td>\n",
       "      <td>0</td>\n",
       "      <td>0</td>\n",
       "      <td>0</td>\n",
       "      <td>0</td>\n",
       "      <td>0</td>\n",
       "      <td>0</td>\n",
       "      <td>0</td>\n",
       "      <td>0</td>\n",
       "      <td>0</td>\n",
       "      <td>0</td>\n",
       "      <td>...</td>\n",
       "      <td>0</td>\n",
       "      <td>0</td>\n",
       "      <td>0</td>\n",
       "      <td>0</td>\n",
       "      <td>0</td>\n",
       "      <td>0</td>\n",
       "      <td>0</td>\n",
       "      <td>0</td>\n",
       "      <td>0</td>\n",
       "      <td>0</td>\n",
       "    </tr>\n",
       "  </tbody>\n",
       "</table>\n",
       "<p>5 rows × 785 columns</p>\n",
       "</div>"
      ],
      "text/plain": [
       "   label  pixel0  pixel1  pixel2  pixel3  pixel4  pixel5  pixel6  pixel7  \\\n",
       "0      1       0       0       0       0       0       0       0       0   \n",
       "1      0       0       0       0       0       0       0       0       0   \n",
       "2      1       0       0       0       0       0       0       0       0   \n",
       "3      4       0       0       0       0       0       0       0       0   \n",
       "4      0       0       0       0       0       0       0       0       0   \n",
       "\n",
       "   pixel8  ...  pixel774  pixel775  pixel776  pixel777  pixel778  pixel779  \\\n",
       "0       0  ...         0         0         0         0         0         0   \n",
       "1       0  ...         0         0         0         0         0         0   \n",
       "2       0  ...         0         0         0         0         0         0   \n",
       "3       0  ...         0         0         0         0         0         0   \n",
       "4       0  ...         0         0         0         0         0         0   \n",
       "\n",
       "   pixel780  pixel781  pixel782  pixel783  \n",
       "0         0         0         0         0  \n",
       "1         0         0         0         0  \n",
       "2         0         0         0         0  \n",
       "3         0         0         0         0  \n",
       "4         0         0         0         0  \n",
       "\n",
       "[5 rows x 785 columns]"
      ]
     },
     "execution_count": 3,
     "metadata": {},
     "output_type": "execute_result"
    }
   ],
   "source": [
    "print(d.shape)\n",
    "d.head()"
   ]
  },
  {
   "cell_type": "code",
   "execution_count": 4,
   "metadata": {},
   "outputs": [
    {
     "data": {
      "image/png": "[encoded data removed]",
      "text/plain": [
       "<Figure size 432x288 with 1 Axes>"
      ]
     },
     "metadata": {
      "needs_background": "light"
     },
     "output_type": "display_data"
    }
   ],
   "source": [
    "# view class distribution\n",
    "x = [i for i in range(0,10)]\n",
    "plt.bar(x, d['label'].value_counts().sort_index())\n",
    "plt.xticks(x)\n",
    "plt.show()"
   ]
  },
  {
   "cell_type": "markdown",
   "metadata": {},
   "source": [
    "# preprocessing"
   ]
  },
  {
   "cell_type": "code",
   "execution_count": 5,
   "metadata": {},
   "outputs": [
    {
     "name": "stdout",
     "output_type": "stream",
     "text": [
      "done\n"
     ]
    }
   ],
   "source": [
    "# convert to matrix\n",
    "d = d.values\n",
    "print('done')"
   ]
  },
  {
   "cell_type": "code",
   "execution_count": 6,
   "metadata": {},
   "outputs": [
    {
     "name": "stdout",
     "output_type": "stream",
     "text": [
      "range before normalisation: [0, 255]\n",
      "range after normalisation: [0.0, 1.0]\n"
     ]
    }
   ],
   "source": [
    "# separate features (X) from labels (y)\n",
    "d_X = d[:,1:] # (42000, 784)\n",
    "d_y = d[:,0]  # (42000,)\n",
    "d_y = d_y[:, None]\n",
    "\n",
    "# normalise features\n",
    "print(f'range before normalisation: {[d_X.min(),d_X.max()]}')\n",
    "d_X = d_X / 255\n",
    "print(f'range after normalisation: {[d_X.min(),d_X.max()]}')"
   ]
  },
  {
   "cell_type": "code",
   "execution_count": 7,
   "metadata": {},
   "outputs": [],
   "source": [
    "def train_val_split(X, y, val_size=0.25):\n",
    "    \"\"\"splits dataset into training and validation set\"\"\"\n",
    "    \n",
    "    d_size = X.shape[0]\n",
    "    sep = int(val_size * d_size)\n",
    "    inds = list(range(d_size))\n",
    "    random.shuffle(inds)\n",
    "    train_inds, val_inds = inds[sep:], inds[:sep]\n",
    "\n",
    "    X_t, X_v = d_X[train_inds, :], d_X[val_inds, :]\n",
    "    y_t, y_v = d_y[train_inds], d_y[val_inds]\n",
    "    \n",
    "    return X_t, X_v, y_t, y_v\n"
   ]
  },
  {
   "cell_type": "code",
   "execution_count": 8,
   "metadata": {},
   "outputs": [
    {
     "name": "stdout",
     "output_type": "stream",
     "text": [
      "done\n",
      "(31500, 784) (10500, 784) (31500, 1) (10500, 1)\n"
     ]
    }
   ],
   "source": [
    "# split into training and validation set\n",
    "X_trn, X_val, y_trn, y_val = train_val_split(d_X, d_y)\n",
    "print('done')\n",
    "\n",
    "print(X_trn.shape, X_val.shape, y_trn.shape, y_val.shape)"
   ]
  },
  {
   "cell_type": "code",
   "execution_count": null,
   "metadata": {},
   "outputs": [],
   "source": []
  },
  {
   "cell_type": "markdown",
   "metadata": {},
   "source": [
    "# Functions"
   ]
  },
  {
   "cell_type": "code",
   "execution_count": 82,
   "metadata": {},
   "outputs": [],
   "source": [
    "\n",
    "def relu(x):\n",
    "    return np.maximum(x, 0)\n",
    "\n",
    "def relu_der(x):\n",
    "    return (x > 0)\n",
    "\n",
    "def softmax(x):\n",
    "    exps = np.exp(x)\n",
    "    exps_sums = exps.sum(axis=1)\n",
    "    return exps / exps_sums[:,None]    \n",
    "\n",
    "def softmax_stable(x):\n",
    "    exps = np.exp(x - np.max(x))\n",
    "    exps_sums = exps.sum(axis=1)\n",
    "    return exps / exps_sums[:,None]\n",
    "\n",
    "def J(y, yhat):\n",
    "    # y -> m-dimensional vector (ground truth) ; yhat -> m x 10 matrix (predictions)\n",
    "    # one-hot encode y\n",
    "    targets = y.reshape(-1)\n",
    "    y_onehot = np.eye(yhat.shape[1])[targets]\n",
    "    \n",
    "    #return -np.sum( y_onehot * np.log(yhat) ) # this is not stable\n",
    "    return -np.sum( y_onehot * np.log(yhat + 1e-8))\n"
   ]
  },
  {
   "cell_type": "code",
   "execution_count": null,
   "metadata": {},
   "outputs": [],
   "source": []
  },
  {
   "cell_type": "code",
   "execution_count": 111,
   "metadata": {},
   "outputs": [],
   "source": []
  },
  {
   "cell_type": "code",
   "execution_count": null,
   "metadata": {},
   "outputs": [],
   "source": [
    "n = 784\n",
    "h = 20\n",
    "out = 10\n",
    "m = 200\n",
    "loss_hx = []\n",
    "epochs = 10\n",
    "\n",
    "# initialise parameters\n",
    "\n",
    "w1 = np.random.normal(0, 1, (n, h))\n",
    "w2 = np.random.normal(0, 1, (h, out))\n",
    "b1 = np.zeros((h, 1))\n",
    "b2 = np.zeros((out, 1))\n",
    "\n",
    "for epoch in range(epochs):\n",
    "    \n",
    "    epoch_loss = 0\n",
    "\n",
    "    for i in range(0, 31500, 100): \n",
    "\n",
    "        #X_trn.shape -> (31500, 784); y_trn.shape -> (31500, 1)\n",
    "\n",
    "        x = X_trn[i:i+100, :] \n",
    "        y = y_trn[i:i+100,:]\n",
    "        \n",
    "        print(f'epoch{epoch}: w1 isnan?:{np.isnan(np.sum(w1))}')\n",
    "        \n",
    "        # feedforward\n",
    "        z1 = np.dot(x, w1) + b1.T\n",
    "        a1 = relu(z1)\n",
    "        z2 = np.dot(a1,w2) + b2.T\n",
    "        a2 = softmax_stable(z2)\n",
    "        \n",
    "        epoch_loss += J(y, a2)\n",
    "\n",
    "        delta_a2 = a2 - y\n",
    "        delta_a1 = np.dot(delta_a2, w2.T) * relu_der(z1)\n",
    "        \n",
    "        dJ_dw2 = np.dot(a1.T, delta_a2) / m\n",
    "        \n",
    "        dJ_dw1 = np.dot(x.T, delta_a1) / m\n",
    "        # grad descent\n",
    "        lr = 0.001\n",
    "        w1 -= lr * dJ_dw1\n",
    "        b1 -= lr * np.sum(delta_a1.T, axis=1, keepdims=True) / m\n",
    "        w2 -= lr * dJ_dw2\n",
    "        \n",
    "        b2 -= lr * np.sum(delta_a2.T, axis=1, keepdims=True) / m\n",
    "\n",
    "    loss_hx.append(epoch_loss)\n"
   ]
  },
  {
   "cell_type": "code",
   "execution_count": 93,
   "metadata": {},
   "outputs": [
    {
     "data": {
      "text/plain": [
       "[nan, nan, nan, nan, nan, nan, nan, nan, nan, nan]"
      ]
     },
     "execution_count": 93,
     "metadata": {},
     "output_type": "execute_result"
    }
   ],
   "source": [
    "loss_hx"
   ]
  },
  {
   "cell_type": "code",
   "execution_count": 91,
   "metadata": {},
   "outputs": [
    {
     "data": {
      "text/plain": [
       "array([[nan, nan, nan, ..., nan, nan, nan],\n",
       "       [nan, nan, nan, ..., nan, nan, nan],\n",
       "       [nan, nan, nan, ..., nan, nan, nan],\n",
       "       ...,\n",
       "       [nan, nan, nan, ..., nan, nan, nan],\n",
       "       [nan, nan, nan, ..., nan, nan, nan],\n",
       "       [nan, nan, nan, ..., nan, nan, nan]])"
      ]
     },
     "execution_count": 91,
     "metadata": {},
     "output_type": "execute_result"
    }
   ],
   "source": [
    "a1"
   ]
  },
  {
   "cell_type": "code",
   "execution_count": null,
   "metadata": {},
   "outputs": [],
   "source": [
    "        # backprop\n",
    "\n",
    "        #dJ_dz2 = a2 - y_onehot\n",
    "        #dz2_dw2 = a1\n",
    "        #dJ_w2 = np.dot(dz2_dw2.T, dJ_dz2)\n",
    "        #dJ_b2 = dJ_dz2\n",
    "\n",
    "        #dz2_da1 = w2\n",
    "        #dJ_da1 = np.dot(dJ_dz2, dz2_da1.T)\n",
    "        #da1_dz1 = relu_der(z1)\n",
    "        #dz1_dw1 = x\n",
    "        #dJ_w1 = np.dot(dz1_dw1.T, da1_dz1 * dJ_da1)\n",
    "        #dJ_b1 = dJ_da1 * da1_dz1\n",
    "        #print(dJ_da1.shape, da1_dz1.shape)\n",
    "        \n",
    "        #w1 -= lr * dJ_w1\n",
    "        #b1 -= lr * np.sum(dJ_b1, axis=1, keepdims=True) / m\n",
    "\n",
    "        #w2 -= lr * dJ_w2\n",
    "        #b2 -= lr * np.sum(dJ_b2, axis=1, keepdims=True) / m"
   ]
  },
  {
   "cell_type": "code",
   "execution_count": 104,
   "metadata": {},
   "outputs": [
    {
     "data": {
      "text/plain": [
       "array([1., 1., 1., 1., 1., 1., 1., 1., 1., 1.])"
      ]
     },
     "execution_count": 104,
     "metadata": {},
     "output_type": "execute_result"
    }
   ],
   "source": [
    "# checking softmax\n",
    "\n",
    "huh = np.random.uniform(low=0.5, high=8, size=(10,5))\n",
    "\n",
    "softmax_stable(huh).sum(axis=1)"
   ]
  },
  {
   "cell_type": "code",
   "execution_count": null,
   "metadata": {},
   "outputs": [],
   "source": []
  }
 ],
 "metadata": {
  "kernelspec": {
   "display_name": "Python 3",
   "language": "python",
   "name": "python3"
  },
  "language_info": {
   "codemirror_mode": {
    "name": "ipython",
    "version": 3
   },
   "file_extension": ".py",
   "mimetype": "text/x-python",
   "name": "python",
   "nbconvert_exporter": "python",
   "pygments_lexer": "ipython3",
   "version": "3.7.4"
  }
 },
 "nbformat": 4,
 "nbformat_minor": 2
}
